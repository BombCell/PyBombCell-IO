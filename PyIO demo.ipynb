{
 "cells": [
  {
   "cell_type": "code",
   "execution_count": null,
   "metadata": {},
   "outputs": [],
   "source": [
    "import numpy as np\n",
    "import pandas as pd\n",
    "import PyIO\n",
    "import os"
   ]
  },
  {
   "cell_type": "markdown",
   "metadata": {},
   "source": [
    "Note : if problem with reading parquet file may need to run\n",
    "`pip install pyarrow`"
   ]
  },
  {
   "cell_type": "code",
   "execution_count": null,
   "metadata": {},
   "outputs": [],
   "source": [
    "#If using the note book in the same folder as the demo data!\n",
    "current_dir = os.getcwd()\n",
    "bc_path = os.path.join(current_dir, 'BC demo data')\n",
    "\n",
    "#Else give the path to the BC results!\n",
    "#bc_path = r'path/to/the/BC/results'"
   ]
  },
  {
   "cell_type": "code",
   "execution_count": null,
   "metadata": {},
   "outputs": [],
   "source": [
    "param_table, quality_metrics_table, fractions_RPVs_all_taur = PyIO.load_bc_results(bc_path)\n",
    "\n",
    "#make param / quality matrics a dictionary\n",
    "quality_metrics = dict(zip(quality_metrics_table.columns, quality_metrics_table.values.T))\n",
    "param = dict(zip(param_table.columns, param_table.values.T))"
   ]
  },
  {
   "cell_type": "code",
   "execution_count": null,
   "metadata": {},
   "outputs": [],
   "source": [
    "unit_type, unit_type_string = PyIO.get_quality_unit_type(param_table, quality_metrics_table)"
   ]
  },
  {
   "cell_type": "code",
   "execution_count": null,
   "metadata": {},
   "outputs": [],
   "source": [
    "good_units = np.zeros(unit_type.size)\n",
    "mua_units = np.zeros(unit_type.size)\n",
    "noise_units = np.zeros(unit_type.size)\n",
    "non_somatic_units = np.zeros(unit_type.size)\n",
    "\n",
    "good_units[unit_type == 1] = 1\n",
    "mua_units[unit_type == 2] = 1\n",
    "noise_units[unit_type == 0] = 1\n",
    "non_somatic_units[unit_type == 3] = 1\n",
    "\n",
    "good_units_idx = np.argwhere(good_units == 1).squeeze()\n",
    "mua_units_idx = np.argwhere(mua_units == 1).squeeze()\n",
    "noise_units_idx = np.argwhere(noise_units == 1).squeeze()\n",
    "non_somatic_units_idx = np.argwhere(non_somatic_units == 1).squeeze()"
   ]
  },
  {
   "cell_type": "code",
   "execution_count": null,
   "metadata": {},
   "outputs": [],
   "source": [
    "# example get all good units number of spikes\n",
    "all_good_units_number_of_spikes = quality_metrics['nSpikes'][good_units_idx]"
   ]
  },
  {
   "cell_type": "code",
   "execution_count": null,
   "metadata": {},
   "outputs": [],
   "source": [
    "# save a .tsv file for future use\n",
    "\n",
    "#to save in folder with BombCell data\n",
    "save_path = os.path.join(bc_path, 'nSpikes.tsv')\n",
    "#save_path = r'path/to/save/dir/nSpikes.tsv'\n",
    "\n",
    "quality_metrics_table['nSpikes'].to_csv(save_path, sep = '\\t')"
   ]
  },
  {
   "cell_type": "code",
   "execution_count": null,
   "metadata": {},
   "outputs": [],
   "source": [
    "#Load a specific unit\n",
    "original_id = 327\n",
    "original_id_we_want_to_load_1_indexed = original_id + 1 #This data is from MatLab so 1 indexed!\n",
    "bc_cluster_id = np.argwhere(quality_metrics['clusterID'] == original_id_we_want_to_load_1_indexed)"
   ]
  }
 ],
 "metadata": {
  "kernelspec": {
   "display_name": "Python 3",
   "language": "python",
   "name": "python3"
  },
  "language_info": {
   "codemirror_mode": {
    "name": "ipython",
    "version": 3
   },
   "file_extension": ".py",
   "mimetype": "text/x-python",
   "name": "python",
   "nbconvert_exporter": "python",
   "pygments_lexer": "ipython3",
   "version": "3.11.4"
  }
 },
 "nbformat": 4,
 "nbformat_minor": 2
}
