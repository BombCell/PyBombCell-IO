{
 "cells": [
  {
   "cell_type": "code",
   "execution_count": 13,
   "metadata": {},
   "outputs": [],
   "source": [
    "import numpy as np\n",
    "import pandas as pd\n",
    "import PyIO\n",
    "import os"
   ]
  },
  {
   "cell_type": "markdown",
   "metadata": {},
   "source": [
    "Note : if problem with reading parquet file may need to run\n",
    "`pip install pyarrow`"
   ]
  },
  {
   "cell_type": "code",
   "execution_count": 14,
   "metadata": {},
   "outputs": [],
   "source": [
    "#If using the note book in the same folder as the demo data!\n",
    "current_dir = os.getcwd()\n",
    "bc_path = os.path.join(current_dir, 'BC demo data')\n",
    "\n",
    "#Else give the path to the BC results!\n",
    "#bc_path = r'path/to/the/BC/results'"
   ]
  },
  {
   "cell_type": "code",
   "execution_count": 15,
   "metadata": {},
   "outputs": [
    {
     "name": "stdout",
     "output_type": "stream",
     "text": [
      "Fraction RPVs all TauR file not found\n"
     ]
    }
   ],
   "source": [
    "param, quality_metrics, fractions_RPVs_all_taur = PyIO.load_bc_results(bc_path)"
   ]
  },
  {
   "cell_type": "code",
   "execution_count": 16,
   "metadata": {},
   "outputs": [
    {
     "name": "stderr",
     "output_type": "stream",
     "text": [
      "c:\\Users\\Experiment\\Documents\\BombCellPy\\BombCellPy\\BombCell PyIO\\PyIO.py:60: RuntimeWarning: invalid value encountered in less\n",
      "  is_non_somatic[(quality_metrics['mainPeak_before_size'] * param['firstPeakRatio'] > quality_metrics['mainPeak_after_size']) & (quality_metrics['mainPeak_before_width'] < param['minWidthFirstPeak']) \\\n",
      "c:\\Users\\Experiment\\Documents\\BombCellPy\\BombCellPy\\BombCell PyIO\\PyIO.py:61: RuntimeWarning: invalid value encountered in less\n",
      "  & (quality_metrics['mainPeak_before_size'] * param['minMainPeakToTroughRatio'] > quality_metrics['mainTrough_size']) & (quality_metrics['mainTrough_width'] < param['minWidthMainTrough'])] = 1\n",
      "c:\\Users\\Experiment\\Documents\\BombCellPy\\BombCellPy\\BombCell PyIO\\PyIO.py:85: RuntimeWarning: invalid value encountered in greater\n",
      "  unit_type[np.logical_and(quality_metrics['percentageSpikesMissing_gaussian'] > param['maxPercSpikesMissing'], np.isnan(unit_type))] = 2\n"
     ]
    }
   ],
   "source": [
    "unit_type, unit_type_string = PyIO.get_quality_unit_type(param, quality_metrics)"
   ]
  }
 ],
 "metadata": {
  "kernelspec": {
   "display_name": "Python 3",
   "language": "python",
   "name": "python3"
  },
  "language_info": {
   "codemirror_mode": {
    "name": "ipython",
    "version": 3
   },
   "file_extension": ".py",
   "mimetype": "text/x-python",
   "name": "python",
   "nbconvert_exporter": "python",
   "pygments_lexer": "ipython3",
   "version": "3.11.4"
  }
 },
 "nbformat": 4,
 "nbformat_minor": 2
}
